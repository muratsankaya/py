{
  "cells": [
    {
      "cell_type": "markdown",
      "metadata": {
        "id": "YXVZmY8ilriC"
      },
      "source": [
        "# Homework 3\n",
        "\n",
        "Refer to the `README.md` in your GitHub repository for all instructions around partners, late work, and how to submit your assignment to Canvas."
      ]
    },
    {
      "cell_type": "code",
      "execution_count": 2,
      "metadata": {
        "id": "EVNH8KF1isWi",
        "colab": {
          "base_uri": "https://localhost:8080/"
        },
        "outputId": "ee5270e2-3d93-4558-ad3b-f25180130b5d"
      },
      "outputs": [
        {
          "output_type": "stream",
          "name": "stdout",
          "text": [
            "Mounted at /content/gdrive\n"
          ]
        }
      ],
      "source": [
        "import numpy as np\n",
        "from tqdm import tqdm\n",
        "\n",
        "import matplotlib\n",
        "import matplotlib.pyplot as plt\n",
        "%matplotlib inline\n",
        "\n",
        "import os\n",
        "# This may be necessary to ensure torch can load deterministic algorithms\n",
        "os.environ[\"CUBLAS_WORKSPACE_CONFIG\"] = \":4096:8\"\n",
        "\n",
        "import torch\n",
        "from torchvision import datasets, transforms\n",
        "\n",
        "from google.colab import drive\n",
        "drive.mount('/content/gdrive')"
      ]
    },
    {
      "cell_type": "markdown",
      "metadata": {
        "id": "OM2yMtIH0OWe"
      },
      "source": [
        "## GANs and Autoencoders\n",
        "\n",
        "This homework assignment builds off the GAN notebook and the Autoencoder notebook that we saw in class. You may copy any code from those notebooks into your code.\n",
        "\n",
        "For this assignment, you will combine the models introduced in those two notebooks to create a combined Autoencoder + GAN model. In particular, that will look something like this:\n",
        "\n",
        "![Diagram of model architecture](https://github.com/cs449f23/lectures/raw/main/static/hw3_fig.png)\n",
        "\n",
        "We're giving you the defined models below and the skeleton of the training code, and you just need to define the optimizers and write the loss functions to allow these models to train together.\n",
        "\n",
        "If we write this in a functional representation, then the encoder $E(X)$ takes in a real image and outputs a $z$ vector, the generator $G(z)$ takes in a $z$ vector and outputs an image $\\tilde X$, and the discriminator $D(X)$ takes in an image and outputs a scalar probability. $G(z)$ can either take in a $z$ sampled from a Gaussian distribution or produced by the encoder; we will evaluate your generation in both cases.\n",
        "\n",
        "The autoencoder loss will be MSELoss comparing $X$ and $\\tilde X$ and the generator and discriminator will be otherwise the same as in a GAN. The tricky component is to get the model to train and reduce all three losses simultaneously."
      ]
    },
    {
      "cell_type": "code",
      "execution_count": 3,
      "metadata": {
        "id": "d_EPvBVEkuZX"
      },
      "outputs": [],
      "source": [
        "class MLPGenerator(torch.nn.Module):\n",
        "\n",
        "    def __init__(self,\n",
        "                 number_of_hidden_layers: int,\n",
        "                 input_size: int,\n",
        "                 hidden_size: int,\n",
        "                 output_size: int,\n",
        "                 activation: torch.nn.Module):\n",
        "        \"\"\"Construct a simple MLP generator\"\"\"\n",
        "\n",
        "        super().__init__()\n",
        "\n",
        "        assert number_of_hidden_layers >= 0, \"Generator number_of_hidden_layers must be at least 0\"\n",
        "\n",
        "        dims_in = [input_size] + [hidden_size] * number_of_hidden_layers\n",
        "        dims_out = [hidden_size] * number_of_hidden_layers + [output_size] # final output should be the size of a true example\n",
        "        layers = []\n",
        "        for i in range(number_of_hidden_layers + 1):\n",
        "            layers.append(torch.nn.Linear(dims_in[i], dims_out[i]))\n",
        "\n",
        "            if i < number_of_hidden_layers:\n",
        "                layers.append(activation)\n",
        "\n",
        "        # apply Sigmoid after final layer to constrain generated images to [0, 1]\n",
        "        layers.append(torch.nn.Sigmoid())\n",
        "\n",
        "        self.net = torch.nn.Sequential(*layers)\n",
        "\n",
        "    def forward(self, x: torch.Tensor):\n",
        "        return self.net(x)\n",
        "\n",
        "class MLPDiscriminator(torch.nn.Module):\n",
        "\n",
        "    def __init__(self,\n",
        "                 number_of_hidden_layers: int,\n",
        "                 input_size: int,\n",
        "                 hidden_size: int,\n",
        "                 activation: torch.nn.Module):\n",
        "        \"\"\"Construct a simple MLP discriminator\"\"\"\n",
        "\n",
        "        super().__init__()\n",
        "\n",
        "        msg = \"Discriminator number_of_hidden_layers must be at least 0\"\n",
        "        assert number_of_hidden_layers >= 0, msg\n",
        "\n",
        "        # final output dimension is scalar (probability image is real)\n",
        "        dims_in = [input_size] + [hidden_size] * number_of_hidden_layers\n",
        "        dims_out = [hidden_size] * number_of_hidden_layers + [1]\n",
        "\n",
        "        layers = []\n",
        "        for i in range(number_of_hidden_layers + 1):\n",
        "            layers.append(torch.nn.Linear(dims_in[i], dims_out[i]))\n",
        "\n",
        "            if i < number_of_hidden_layers:\n",
        "                layers.append(activation)\n",
        "\n",
        "        # apply sigmoid after final layer to represent probability\n",
        "        layers.append(torch.nn.Sigmoid())\n",
        "\n",
        "        self.net = torch.nn.Sequential(*layers)\n",
        "\n",
        "    def forward(self, x: torch.Tensor):\n",
        "        return self.net(x)\n",
        "\n",
        "class MLPEncoder(torch.nn.Module):\n",
        "\n",
        "    def __init__(self,\n",
        "                 number_of_hidden_layers: int,\n",
        "                 input_size: int,\n",
        "                 hidden_size: int,\n",
        "                 latent_size: int,\n",
        "                 activation: torch.nn.Module):\n",
        "        \"\"\"Construct a simple MLP encoder\"\"\"\n",
        "\n",
        "        super().__init__()\n",
        "\n",
        "        assert number_of_hidden_layers >= 0, \"Encoder number_of_hidden_layers must be at least 0\"\n",
        "\n",
        "        dims_in = [input_size] + [hidden_size] * number_of_hidden_layers\n",
        "        dims_out = [hidden_size] * number_of_hidden_layers + [latent_size]  # final output should be latent size\n",
        "        layers = []\n",
        "        for i in range(number_of_hidden_layers + 1):\n",
        "            layers.append(torch.nn.Linear(dims_in[i], dims_out[i]))\n",
        "\n",
        "            if i < number_of_hidden_layers:\n",
        "                layers.append(activation)\n",
        "\n",
        "        self.net = torch.nn.Sequential(*layers)\n",
        "\n",
        "    def forward(self, x: torch.Tensor):\n",
        "        return self.net(x)\n",
        "\n",
        "\n",
        "class Model(torch.nn.Module):\n",
        "    def __init__(self,\n",
        "                 number_of_hidden_layers: int,\n",
        "                 latent_size: int,\n",
        "                 hidden_size: int,\n",
        "                 output_size: int,\n",
        "                 activation_generator: torch.nn.Module = torch.nn.ReLU(),\n",
        "                 activation_discriminator: torch.nn.Module = torch.nn.LeakyReLU(0.2)\n",
        "                ):\n",
        "\n",
        "        super().__init__()\n",
        "\n",
        "        self.encoder = MLPEncoder(\n",
        "            number_of_hidden_layers=number_of_hidden_layers,\n",
        "            input_size=output_size,\n",
        "            hidden_size=hidden_size,\n",
        "            latent_size=latent_size,\n",
        "            activation=activation_generator,\n",
        "        )\n",
        "\n",
        "        self.generator = MLPGenerator(\n",
        "            number_of_hidden_layers=number_of_hidden_layers,\n",
        "            input_size=latent_size,\n",
        "            hidden_size=hidden_size,\n",
        "            output_size=output_size,\n",
        "            activation=activation_generator\n",
        "        )\n",
        "\n",
        "        self.discriminator = MLPDiscriminator(\n",
        "            number_of_hidden_layers=number_of_hidden_layers,\n",
        "            input_size=output_size,\n",
        "            hidden_size=hidden_size,\n",
        "            activation=activation_discriminator\n",
        "        )"
      ]
    },
    {
      "cell_type": "code",
      "execution_count": 4,
      "metadata": {
        "id": "oYmhDlK_lWQA"
      },
      "outputs": [],
      "source": [
        "# Don't change the image size.\n",
        "image_size = 28\n",
        "# You shouldn't *need* to change latent size, but you can if you want\n",
        "latent_size = 64\n",
        "# select device\n",
        "device = torch.device(\"cuda\" if torch.cuda.is_available() else \"cpu\")\n",
        "\n",
        "# Discriminator (and generator) loss function: binary cross-entropy loss\n",
        "discrim_loss_func = torch.nn.BCELoss()\n",
        "# Autoencoder loss function: mean squared error between original and new image\n",
        "autoencoder_loss_func = torch.nn.MSELoss()\n",
        "\n",
        "# determine which labels will correspond to \"real\" and \"fake\" predictions from the discriminator\n",
        "label_real = 1.0\n",
        "label_fake = 0.0"
      ]
    },
    {
      "cell_type": "code",
      "execution_count": 5,
      "metadata": {
        "id": "1GX-ACU8JPVX"
      },
      "outputs": [],
      "source": [
        "# You shouldn't need to change this function.\n",
        "\n",
        "def load_mnist(batch_size=64):\n",
        "\n",
        "    cuda_kwargs = {\n",
        "        'num_workers': 1,\n",
        "        'pin_memory': True,\n",
        "        'shuffle': True\n",
        "    } if torch.cuda.is_available() else {}\n",
        "\n",
        "    # format image data, but do not normalize\n",
        "    transform = transforms.Compose([\n",
        "        transforms.ToTensor(),\n",
        "    ])\n",
        "\n",
        "    # download MNIST data\n",
        "    data = datasets.MNIST(\n",
        "        './data',\n",
        "        train=True,\n",
        "        download=True,\n",
        "        transform=transform\n",
        "    )\n",
        "\n",
        "    # load MNIST data\n",
        "    loader = torch.utils.data.DataLoader(\n",
        "        data,\n",
        "        batch_size=batch_size,\n",
        "        **cuda_kwargs\n",
        "    )\n",
        "\n",
        "    return loader"
      ]
    },
    {
      "cell_type": "markdown",
      "metadata": {
        "id": "e5Q1xvO2Rwi6"
      },
      "source": [
        "## Coding Preliminaries (4 points)\n",
        "\n",
        "You need to write code to get the model to train. There are a few design decisions you need to make; not all have a single correct answer. You **don't need to answer** these questions with written responses; just write your code. These questions are just guidance for how we will grade your code.\n",
        "\n",
        "1. What are your loss functions?\n",
        "\n",
        "  You will need to compute the loss of your model for each part of the model: `loss_discriminator`, `loss_generator`, and `loss_autoencoder`. You should look at the printout for these losses. Overall, we expect that each loss will decrease for at least *part* of the training time and the total loss should decrease monotonically.\n",
        "\n",
        "\n",
        "2. How do you use optimizers to train your model?\n",
        "\n",
        "  You will need to instantiate optimizer(s) from the `torch.nn.optim` module. You may want to more than one optimizer, so you can use different optimizers for different parts of your model. How many optimizers to use is up to you. Be sure to use `zero_grad()` to zero out gradients. You may want to use `detach()` as we did in the GAN notebook.\n",
        "\n",
        "\n",
        "3. Can we reproduce your code?\n",
        "\n",
        "  For full points, we must be able to run your notebook as is and reproduce (almost) exactly the same results."
      ]
    },
    {
      "cell_type": "code",
      "execution_count": 6,
      "metadata": {
        "id": "fUlMt3_TJPVX"
      },
      "outputs": [],
      "source": [
        "# TODO: change these training hyperparameters\n",
        "\n",
        "hidden_size = 256\n",
        "number_of_hidden_layers = 2\n",
        "learning_rate = 0.0002\n",
        "epochs = 80\n",
        "batch_size = 64\n",
        "batch_limit = None"
      ]
    },
    {
      "cell_type": "code",
      "execution_count": 7,
      "metadata": {
        "id": "Ofy4Kl41l44D",
        "colab": {
          "base_uri": "https://localhost:8080/"
        },
        "outputId": "ba0ad7a7-b315-41a4-a160-cea01cacbc80"
      },
      "outputs": [
        {
          "output_type": "stream",
          "name": "stdout",
          "text": [
            "Downloading http://yann.lecun.com/exdb/mnist/train-images-idx3-ubyte.gz\n",
            "Failed to download (trying next):\n",
            "HTTP Error 403: Forbidden\n",
            "\n",
            "Downloading https://ossci-datasets.s3.amazonaws.com/mnist/train-images-idx3-ubyte.gz\n",
            "Downloading https://ossci-datasets.s3.amazonaws.com/mnist/train-images-idx3-ubyte.gz to ./data/MNIST/raw/train-images-idx3-ubyte.gz\n"
          ]
        },
        {
          "output_type": "stream",
          "name": "stderr",
          "text": [
            "100%|██████████| 9.91M/9.91M [00:00<00:00, 43.1MB/s]\n"
          ]
        },
        {
          "output_type": "stream",
          "name": "stdout",
          "text": [
            "Extracting ./data/MNIST/raw/train-images-idx3-ubyte.gz to ./data/MNIST/raw\n",
            "\n",
            "Downloading http://yann.lecun.com/exdb/mnist/train-labels-idx1-ubyte.gz\n",
            "Failed to download (trying next):\n",
            "HTTP Error 403: Forbidden\n",
            "\n",
            "Downloading https://ossci-datasets.s3.amazonaws.com/mnist/train-labels-idx1-ubyte.gz\n",
            "Downloading https://ossci-datasets.s3.amazonaws.com/mnist/train-labels-idx1-ubyte.gz to ./data/MNIST/raw/train-labels-idx1-ubyte.gz\n"
          ]
        },
        {
          "output_type": "stream",
          "name": "stderr",
          "text": [
            "100%|██████████| 28.9k/28.9k [00:00<00:00, 1.05MB/s]\n"
          ]
        },
        {
          "output_type": "stream",
          "name": "stdout",
          "text": [
            "Extracting ./data/MNIST/raw/train-labels-idx1-ubyte.gz to ./data/MNIST/raw\n",
            "\n",
            "Downloading http://yann.lecun.com/exdb/mnist/t10k-images-idx3-ubyte.gz\n",
            "Failed to download (trying next):\n",
            "HTTP Error 403: Forbidden\n",
            "\n",
            "Downloading https://ossci-datasets.s3.amazonaws.com/mnist/t10k-images-idx3-ubyte.gz\n",
            "Downloading https://ossci-datasets.s3.amazonaws.com/mnist/t10k-images-idx3-ubyte.gz to ./data/MNIST/raw/t10k-images-idx3-ubyte.gz\n"
          ]
        },
        {
          "output_type": "stream",
          "name": "stderr",
          "text": [
            "100%|██████████| 1.65M/1.65M [00:00<00:00, 10.8MB/s]\n"
          ]
        },
        {
          "output_type": "stream",
          "name": "stdout",
          "text": [
            "Extracting ./data/MNIST/raw/t10k-images-idx3-ubyte.gz to ./data/MNIST/raw\n",
            "\n",
            "Downloading http://yann.lecun.com/exdb/mnist/t10k-labels-idx1-ubyte.gz\n",
            "Failed to download (trying next):\n",
            "HTTP Error 403: Forbidden\n",
            "\n",
            "Downloading https://ossci-datasets.s3.amazonaws.com/mnist/t10k-labels-idx1-ubyte.gz\n",
            "Downloading https://ossci-datasets.s3.amazonaws.com/mnist/t10k-labels-idx1-ubyte.gz to ./data/MNIST/raw/t10k-labels-idx1-ubyte.gz\n"
          ]
        },
        {
          "output_type": "stream",
          "name": "stderr",
          "text": [
            "100%|██████████| 4.54k/4.54k [00:00<00:00, 5.93MB/s]"
          ]
        },
        {
          "output_type": "stream",
          "name": "stdout",
          "text": [
            "Extracting ./data/MNIST/raw/t10k-labels-idx1-ubyte.gz to ./data/MNIST/raw\n",
            "\n"
          ]
        },
        {
          "output_type": "stream",
          "name": "stderr",
          "text": [
            "\n"
          ]
        }
      ],
      "source": [
        "# Load MNIST dataset\n",
        "# You only need to rerun this cell if you've changed `batch_size` above\n",
        "\n",
        "mnist = load_mnist(batch_size=batch_size)"
      ]
    },
    {
      "cell_type": "code",
      "execution_count": 8,
      "metadata": {
        "colab": {
          "base_uri": "https://localhost:8080/"
        },
        "id": "OfyAKlI1l4UD",
        "outputId": "a384a140-5bbf-445f-baa0-accacd2297ad"
      },
      "outputs": [
        {
          "output_type": "stream",
          "name": "stdout",
          "text": [
            "Epoch:    1  AE Loss:   0.1351  Gen Loss:   5.1738  Dis Loss:   0.1459  Total:   5.4549\n",
            "Epoch:    8  AE Loss:   0.0655  Gen Loss:   7.7208  Dis Loss:   0.0450  Total:   7.8313\n",
            "Epoch:   16  AE Loss:   0.0521  Gen Loss:   6.7130  Dis Loss:   0.0855  Total:   6.8506\n",
            "Epoch:   24  AE Loss:   0.0358  Gen Loss:   3.2256  Dis Loss:   0.3767  Total:   3.6381\n",
            "Epoch:   32  AE Loss:   0.0291  Gen Loss:   2.3386  Dis Loss:   0.5572  Total:   2.9249\n",
            "Epoch:   40  AE Loss:   0.0247  Gen Loss:   2.1303  Dis Loss:   0.6065  Total:   2.7615\n",
            "Epoch:   48  AE Loss:   0.0221  Gen Loss:   1.9722  Dis Loss:   0.6534  Total:   2.6477\n",
            "Epoch:   56  AE Loss:   0.0201  Gen Loss:   1.9220  Dis Loss:   0.6581  Total:   2.6002\n",
            "Epoch:   64  AE Loss:   0.0186  Gen Loss:   1.8466  Dis Loss:   0.6826  Total:   2.5479\n",
            "Epoch:   72  AE Loss:   0.0187  Gen Loss:   1.7854  Dis Loss:   0.7187  Total:   2.5227\n",
            "Epoch:   80  AE Loss:   0.0175  Gen Loss:   1.7369  Dis Loss:   0.7506  Total:   2.5050\n"
          ]
        }
      ],
      "source": [
        "# Set the random seed. NOTE: don't change this\n",
        "np.random.seed(1)\n",
        "torch.manual_seed(1)\n",
        "torch.use_deterministic_algorithms(True)\n",
        "\n",
        "model = Model(\n",
        "    number_of_hidden_layers=number_of_hidden_layers,\n",
        "    latent_size=latent_size,\n",
        "    hidden_size=hidden_size,\n",
        "    output_size=image_size*image_size,\n",
        ").to(device)\n",
        "\n",
        "opt_discriminator = torch.optim.Adam(model.discriminator.parameters(), lr=learning_rate)\n",
        "opt_generator = torch.optim.Adam(model.generator.parameters(), lr=learning_rate)\n",
        "opt_encoder = torch.optim.Adam(model.encoder.parameters(), lr=learning_rate)\n",
        "\n",
        "loss_d = np.zeros(epochs)\n",
        "loss_g = np.zeros(epochs)\n",
        "loss_ae = np.zeros(epochs)\n",
        "\n",
        "for epoch in range(epochs):\n",
        "    total_epoch_size = 0\n",
        "\n",
        "    for batch_idx, batch_data in enumerate(mnist):\n",
        "\n",
        "        # TODO: try debugging your model with a small batch_limit\n",
        "        # of batches before training on the whole dataset\n",
        "        # Set batch_limit = None to run on the full dataset.\n",
        "        if batch_limit is not None and batch_idx >= batch_limit:\n",
        "            break\n",
        "\n",
        "        x_real, y_real = batch_data\n",
        "        x_real = x_real.to(device)\n",
        "        n_batch = x_real.shape[0]\n",
        "        x_real = x_real.reshape(n_batch, -1)\n",
        "\n",
        "        # TODO: write your training code here to compute loss functions\n",
        "        #   and use optimizer(s) to update your parameters\n",
        "        loss_discriminator = torch.tensor(0)\n",
        "        loss_generator = torch.tensor(0)\n",
        "        loss_autoencoder = torch.tensor(0)\n",
        "\n",
        "        ########################################################################\n",
        "        # STEP 1: train the discriminator network to maximize the objective\n",
        "        #         log(D(x)) + log(1 - D(G(z)))\n",
        "        ########################################################################\n",
        "\n",
        "        model.discriminator.zero_grad()\n",
        "\n",
        "        # train on a batch of real inputs\n",
        "        y_real = torch.full((n_batch, 1), label_real, device=device)\n",
        "        preds_real = model.discriminator(x_real)\n",
        "        loss_real = discrim_loss_func(preds_real, y_real)\n",
        "\n",
        "        # train on a batch of synthesized inputs\n",
        "        z = torch.randn(n_batch, latent_size).to(device)\n",
        "        x_fake = model.generator(z)\n",
        "        y_fake = torch.full((n_batch, 1), label_fake, device=device)\n",
        "\n",
        "        # the x_fake.detach() is key here, otherwise the gradients would\n",
        "        # follow through the generator when backprop is performed.\n",
        "        preds_fake = model.discriminator(x_fake.detach())\n",
        "        loss_fake = discrim_loss_func(preds_fake, y_fake)\n",
        "\n",
        "        loss_discriminator = loss_real + loss_fake\n",
        "        loss_discriminator.backward()\n",
        "        opt_discriminator.step()\n",
        "\n",
        "        ########################################################################\n",
        "        # STEP 2 and STEP 3: Train the generator and autoencoder\n",
        "        ########################################################################\n",
        "\n",
        "        # Zero the gradients for encoder and generator\n",
        "        opt_encoder.zero_grad()\n",
        "        opt_generator.zero_grad()\n",
        "\n",
        "        z = torch.randn(n_batch, latent_size).to(device)\n",
        "        x_fake = model.generator(z)\n",
        "        preds_fake = model.discriminator(x_fake)\n",
        "\n",
        "        z_encoded = model.encoder(x_real)\n",
        "        x_recon = model.generator(z_encoded)\n",
        "\n",
        "        loss_generator = discrim_loss_func(preds_fake, y_real)\n",
        "        loss_autoencoder = autoencoder_loss_func(x_recon, x_real)\n",
        "        total_loss = loss_generator + loss_autoencoder\n",
        "        total_loss.backward()\n",
        "        opt_encoder.step()\n",
        "        opt_generator.step()\n",
        "\n",
        "        loss_d[epoch] += loss_discriminator.detach().item() * n_batch\n",
        "        loss_g[epoch] += loss_generator.detach().item() * n_batch\n",
        "        loss_ae[epoch] += loss_autoencoder.detach().item() * n_batch\n",
        "        total_epoch_size += n_batch\n",
        "\n",
        "    loss_d[epoch] /= total_epoch_size\n",
        "    loss_g[epoch] /= total_epoch_size\n",
        "    loss_ae[epoch] /= total_epoch_size\n",
        "\n",
        "    if epoch == 0 or (epoch + 1) % max(1, epochs // 10) == 0:\n",
        "        total = loss_ae[epoch] + loss_g[epoch] + loss_d[epoch]\n",
        "        log = \"  \".join([\n",
        "            f\"Epoch: {epoch + 1:4d}\",\n",
        "            f\"AE Loss: {loss_ae[epoch]:8.4f}\",\n",
        "            f\"Gen Loss: {loss_g[epoch]:8.4f}\",\n",
        "            f\"Dis Loss: {loss_d[epoch]:8.4f}\",\n",
        "            f\"Total: {total:8.4f}\",\n",
        "        ])\n",
        "        print(log)\n",
        "\n",
        "PATH = '/content/gdrive/My Drive/NU/DL/HW3/model-spartacus.pth'\n",
        "os.makedirs(os.path.dirname(PATH), exist_ok=True)\n",
        "torch.save(model.state_dict(), PATH)\n"
      ]
    },
    {
      "cell_type": "markdown",
      "metadata": {
        "id": "7Nk0eFskJPVa"
      },
      "source": [
        "## Generate new images (3 points)\n",
        "\n",
        "Once you've trained your model, use this cell to generate images by sampling $z \\sim {\\mathcal N}(0, 1)$ and producing $G(z)$. We will grade this based on whether your generated images look like the handwritten digits from MNIST. While this is somewhat subjective, here is a rough rubric of how we plan to grade this:\n",
        "\n",
        "- **0 points**: just blobs or static; no distinction between images\n",
        "\n",
        "    ![0pts](https://github.com/cs449f23/lectures/raw/main/static/hw3_0pts.png)\n",
        "\n",
        "- **1 point**: if you squint, it might look like a digit\n",
        "\n",
        "    ![1pt](https://github.com/cs449f23/lectures/raw/main/static/hw3_1pt.png)\n",
        "\n",
        "- **2 points**: you can tell what digit each image is supposed to be\n",
        "\n",
        "    ![2pts](https://github.com/cs449f23/lectures/raw/main/static/hw3_2pts.png)\n",
        "\n",
        "- **3 points**: you might not be able to tell it apart from an MNIST digit\n",
        "\n",
        "    ![3pts](https://github.com/cs449f23/lectures/raw/main/static/hw3_3pts.png)\n",
        "\n",
        "Remember: we must be able to run your notebook from scratch and get similar results."
      ]
    },
    {
      "cell_type": "code",
      "execution_count": 19,
      "metadata": {
        "id": "_81rHjXK2l1N",
        "colab": {
          "base_uri": "https://localhost:8080/",
          "height": 730
        },
        "outputId": "8a6608ad-14e9-411c-f246-b6ca4759373b"
      },
      "outputs": [
        {
          "output_type": "display_data",
          "data": {
            "text/plain": [
              "<Figure size 1800x900 with 18 Axes>"
            ],
            "image/png": "[encoded data removed]"
          },
          "metadata": {}
        }
      ],
      "source": [
        "nrows, ncols = (6, 3)\n",
        "fig, axes = plt.subplots(nrows=nrows, ncols=ncols, figsize=(3 * nrows, 3 * ncols))\n",
        "\n",
        "for row in range(nrows):\n",
        "    for col in range(ncols):\n",
        "        z = torch.randn(1, latent_size).to(device)\n",
        "        output = model.generator(z).reshape(image_size, image_size).detach().cpu()\n",
        "        axes[row, col].imshow(output.squeeze(), cmap='gray')\n",
        "        axes[row, col].axis('off')\n",
        "\n",
        "plt.show()"
      ]
    },
    {
      "cell_type": "markdown",
      "metadata": {
        "id": "DC9SYdJ_JPVa"
      },
      "source": [
        "## Auto-encode existing images (2 points)\n",
        "\n",
        "Once you've trained your model, use this cell to generate images by choosing a random $X$ and generating $G(E(X))$. You should be able to reconstruct images with low reconstruction error. We will grade the \"Reconstructed Image\" column based on whether it looks like the \"Original Image.\" We will grade the \"Nearby Reconstruction\" column based on whether it looks good (using the rubric above) and whether it is somewhat close to the \"Original Image.\""
      ]
    },
    {
      "cell_type": "code",
      "execution_count": 20,
      "metadata": {
        "id": "MRQy5q1btCk4",
        "colab": {
          "base_uri": "https://localhost:8080/",
          "height": 752
        },
        "outputId": "1baaa20c-d3ac-4cfe-92ca-062badf3e32f"
      },
      "outputs": [
        {
          "output_type": "display_data",
          "data": {
            "text/plain": [
              "<Figure size 1800x900 with 18 Axes>"
            ],
            "image/png": "[encoded data removed]"
          },
          "metadata": {}
        }
      ],
      "source": [
        "example_batch = next(iter(mnist))[0].to(device)\n",
        "nrows, ncols = (6, 3)\n",
        "fig, axes = plt.subplots(nrows=nrows, ncols=ncols, figsize=(3 * nrows, 3 * ncols))\n",
        "\n",
        "indices = np.argsort(np.random.rand(example_batch.shape[0]))[:nrows]\n",
        "\n",
        "for row, index in enumerate(indices):\n",
        "\n",
        "    example_image = example_batch[index].cpu()\n",
        "    axes[row, 0].imshow(example_image.squeeze(), cmap='gray')\n",
        "    axes[row, 0].axis('off')\n",
        "    if row == 0:\n",
        "        axes[row, 0].set_title(\"Original Image\")\n",
        "\n",
        "    z = model.encoder(example_image.flatten().unsqueeze(0).to(device))\n",
        "    recons_img = model.generator(z).reshape(1, image_size, image_size).detach().cpu()\n",
        "\n",
        "    axes[row, 1].imshow(recons_img.squeeze(), cmap='gray')\n",
        "    axes[row, 1].axis('off')\n",
        "    if row == 0:\n",
        "        axes[row, 1].set_title(\"Reconstructed Image\")\n",
        "\n",
        "    z_nearby = z + torch.randn(1, latent_size).to(device)\n",
        "    nearby = model.generator(z_nearby).reshape(1, image_size, image_size).detach().cpu()\n",
        "    axes[row, 2].imshow(recons_img.squeeze(), cmap='gray')\n",
        "    axes[row, 2].axis('off')\n",
        "    if row == 0:\n",
        "        axes[row, 2].set_title(\"Nearby Reconstruction\")\n",
        "\n",
        "\n",
        "plt.show()"
      ]
    },
    {
      "cell_type": "markdown",
      "metadata": {
        "id": "Ro4LKWJTJPVb"
      },
      "source": [
        "## Conceptual questions (5 points)\n",
        "\n",
        "Please submit your written answers to the questions in `problems.md` as a separate `hw3.pdf` file."
      ]
    }
  ],
  "metadata": {
    "colab": {
      "provenance": [],
      "gpuType": "A100"
    },
    "kernelspec": {
      "display_name": "Python 3",
      "name": "python3"
    },
    "language_info": {
      "codemirror_mode": {
        "name": "ipython",
        "version": 3
      },
      "file_extension": ".py",
      "mimetype": "text/x-python",
      "name": "python",
      "nbconvert_exporter": "python",
      "pygments_lexer": "ipython3",
      "version": "3.11.10"
    },
    "accelerator": "GPU"
  },
  "nbformat": 4,
  "nbformat_minor": 0
}