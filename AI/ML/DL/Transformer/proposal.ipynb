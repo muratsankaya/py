{
 "cells": [
  {
   "cell_type": "markdown",
   "metadata": {
    "id": "kGMAhIAC1k6i"
   },
   "source": [
    "# CS 449 Final Project Proposal\n",
    "\n",
    "Due: October 9, 2023 at 11:59pm\n",
    "\n",
    "# 1. Names\n",
    "\n",
    "*List your group members. Please each group member's Net ID in the `netids` file, one per line.*\n",
    "\n",
    "# 2. Logistics\n",
    "\n",
    "*Please find a weekly meeting time that works for all group members and list that here. Then, decide how you plan to keep in touch throughout the quarter (e.g., Discord, Slack, WhatsApp, etc.)*\n",
    "\n",
    "# 3. Abstract\n",
    "\n",
    "*Your abstract should be two or three sentences describing the motivation\n",
    "for your project and your proposed methods. Keep this short!*\n",
    "\n",
    "> For example:\n",
    "> \n",
    "> Our final project seeks to use a variety of `sklearn` models to classify\n",
    "> handwritten digits in the `MNIST` dataset. We will compare models such\n",
    "> as Logistic Regression and Multilayer Perceptrons."
   ]
  },
  {
   "cell_type": "markdown",
   "metadata": {
    "id": "YX2wBFIs2S9Q"
   },
   "source": [
    "# 4. Introduction\n",
    "\n",
    "*Why is this project interesting to you? Describe the motivation for pursuing this project. Give a specific description of your data and what machine learning task you will focus on.*\n",
    "\n",
    ">For example:\n",
    "> \n",
    "> It is very important for us to be able to automatically recognize handwritten digits so that the Postal Service can identify whether a letter has been sent to the correct address. We will use a large dataset of handwritten digits and train our models to input the black-and-white pixels of those digits and output the number that was written. [etc. etc.]"
   ]
  },
  {
   "cell_type": "markdown",
   "metadata": {
    "id": "B-1Lwrn635Qa"
   },
   "source": [
    "# 5. Data\n",
    "## 5a. Describe your dataset(s)\n",
    "\n",
    "*List the datasets you plan to use, where you found them, and what they contain. Be detailed! For each dataset, what does the data look like? What is the data representation? (e.g., what resolution of images? what length of sequences?) How is the data annotated or labeled? Include citations for the datasets. Include at least one citation of previous work that has used your data, or explain why no one has used your data before.*\n",
    "\n",
    "> For example:\n",
    ">\n",
    "> We use the popular MNIST dataset, which contains 70,000 different 28x28 pixel greyscale images of handwritten digits. The dataset was created by the American Census Bureau in 1998 ..."
   ]
  },
  {
   "cell_type": "markdown",
   "metadata": {},
   "source": [
    "## 5b. Load your dataset(s)\n",
    "\n",
    "*Demonstrate that you have made at least some progress with getting your\n",
    "dataset ready to use. Load at least a few examples and visualize them\n",
    "as best you can*"
   ]
  },
  {
   "cell_type": "code",
   "execution_count": 1,
   "metadata": {
    "colab": {
     "base_uri": "https://localhost:8080/",
     "height": 244
    },
    "id": "VUfetuVm5WTy",
    "outputId": "30b7a0f8-9bb8-4ad9-9376-55fed29f23dd"
   },
   "outputs": [
    {
     "data": {
      "image/png": "[encoded data removed]",
      "text/plain": [
       "<Figure size 2000x500 with 5 Axes>"
      ]
     },
     "metadata": {},
     "output_type": "display_data"
    }
   ],
   "source": [
    "# For example:\n",
    "import matplotlib.pyplot as plt\n",
    "\n",
    "from sklearn.datasets import load_digits\n",
    "\n",
    "X, y = load_digits(return_X_y=True)\n",
    "fig, axes = plt.subplots(nrows=1, ncols=5, figsize=(20, 5), sharex=True,)\n",
    "plt.gray()\n",
    "for i, axis in enumerate(axes):\n",
    "    axis.matshow(X[i, :].reshape(8, 8))\n",
    "plt.show()"
   ]
  },
  {
   "cell_type": "markdown",
   "metadata": {},
   "source": [
    "## 5c. Small dataset\n",
    "\n",
    "*Many deep learning datasets are very large, which is helpful for training powerful models but makes debugging difficult. For your update, you will need to construct a small version of your dataset that contains 200-1000 examples and is less than 10MB. If you are working with images, video, or audio, you may need to downsample your data. If you are working with text, you may need to truncate or otherwise preprocess your data.*\n",
    "\n",
    "*Give a specific plan for how you will create a small version of one dataset you'll use that is less than 10MB in size. Mention the current size of your dataset and how many examples it has and how those numbers inform your plan.*\n",
    "\n",
    "> For example:\n",
    "> \n",
    "> We will choose only the first 1000 examples from our dataset and downsample our images to be 8x8 pixels..."
   ]
  },
  {
   "cell_type": "markdown",
   "metadata": {
    "id": "XCKtudoJ6V4g"
   },
   "source": [
    "# 6. Methods\n",
    "\n",
    "*Describe what methods you plan to use. This is a deep learning class, so you should use deep learning methods. Cite at least one or two relevant papers. What model architectures or pretrained models will you use? What loss function(s) will you use and why? How will you evaluate or visualize your model's performance?*\n",
    "\n",
    "> For example:\n",
    "> \n",
    "> This is a standard supervised learning task, and we will use `sklearn`'s Logistic Regression model to predict digit labels from their pixels. The model will contain one weight per pixel. We will train our model using Cross-Entropy loss, because..."
   ]
  },
  {
   "cell_type": "markdown",
   "metadata": {
    "id": "BA5eIKsR7QRk"
   },
   "source": [
    "# 7. Deliverables\n",
    "\n",
    "*Include at least six goals that you would like to focus on over the course of the quarter. These should be nontrivial, but you should have at least one and hopefully both of your \"Essential\" goals done by the project update, due in mid-May. Your \"Stretch\" goals should be ambitious enough such that completing one is doable, but completing both this quarter is unlikely.*\n",
    "\n",
    "## 7.1 Essential Goals\n",
    "- (At least two goals here. At least one should involve getting a neural network model running.)\n",
    "\n",
    "> For example:\n",
    ">\n",
    "> We will use a Logistic Regression and a Multilayer Perceptron to train and test on our MNIST data.\n",
    "\n",
    "## 7.2 Desired Goals\n",
    "- (At least two goals here. Completing these goals should be sufficient for you to say your project was a success.)\n",
    "\n",
    "> For example:\n",
    ">\n",
    "> We will compare our MLP model against a pretrained Visual Transformer model that we fine-tune for this task.\n",
    "\n",
    "## 7.3 Stretch Goals\n",
    "- (At least two goals here. These should be ambitious extensions to your desired goals. You can still get full points without completing these.)\n",
    "> For example:\n",
    "> \n",
    "> We will conduct a manual analysis of the digits that our model gets wrong and use a GAN to create new images that help us learn a more robust classifier.\n"
   ]
  },
  {
   "cell_type": "markdown",
   "metadata": {
    "id": "xlB_wLS381Xy"
   },
   "source": [
    "# 8. Hopes and Concerns\n",
    "\n",
    "*What are you most excited about with this project? What parts, if any, are you nervous about? For example:*\n",
    "\n",
    "> For example: \n",
    "> \n",
    "> We're worried that we'll get really bored of staring at pixelated hand-written digits for hours on end."
   ]
  },
  {
   "cell_type": "markdown",
   "metadata": {
    "id": "u2peFc_M8-E7"
   },
   "source": [
    "# 9. References\n",
    "\n",
    "*Cite the papers or sources that you used to discover your datasets and/or models, if you didn't include the citation above.*\n",
    "\n",
    "> For example:\n",
    "> \n",
    "> LeCun, Yann, et al. \"Gradient-based learning applied to document recognition.\" Proceedings of the IEEE 86.11 (1998): 2278-2324."
   ]
  }
 ],
 "metadata": {
  "colab": {
   "provenance": []
  },
  "kernelspec": {
   "display_name": "Python [conda env:cs449] *",
   "language": "python",
   "name": "conda-env-cs449-py"
  },
  "language_info": {
   "codemirror_mode": {
    "name": "ipython",
    "version": 3
   },
   "file_extension": ".py",
   "mimetype": "text/x-python",
   "name": "python",
   "nbconvert_exporter": "python",
   "pygments_lexer": "ipython3",
   "version": "3.9.16"
  }
 },
 "nbformat": 4,
 "nbformat_minor": 1
}
